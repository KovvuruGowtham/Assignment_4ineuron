{
 "cells": [
  {
   "cell_type": "raw",
   "id": "c4a969da-d876-4fb1-8b30-f1b7105eb0c6",
   "metadata": {},
   "source": [
    "1. What exactly is []?"
   ]
  },
  {
   "cell_type": "raw",
   "id": "f124555e-fe3e-4196-ab81-b0ab0b5b7f8c",
   "metadata": {},
   "source": [
    "Ans: It is called an empty list."
   ]
  },
  {
   "cell_type": "raw",
   "id": "305ad54c-40d4-4bba-a801-6303fbdda114",
   "metadata": {},
   "source": [
    "2. In a list of values stored in a variable called spam, how would you assign the value \"hello\"; as the\n",
    "third value? (Assume [2, 4, 6, 8, 10] are in spam.)\n",
    "Lets pretend the spam includes the list [\"a\",\"b\",\"c\",\"d\"] for the next three queries."
   ]
  },
  {
   "cell_type": "raw",
   "id": "428147ba-3ad6-4d4a-ad9d-eb89812fd293",
   "metadata": {},
   "source": [
    "method1:"
   ]
  },
  {
   "cell_type": "code",
   "execution_count": 1,
   "id": "5f601caf-e1fe-469d-9116-1713a5ee6047",
   "metadata": {},
   "outputs": [
    {
     "data": {
      "text/plain": [
       "[2, 4, 'hello', 6, 8, 10]"
      ]
     },
     "execution_count": 1,
     "metadata": {},
     "output_type": "execute_result"
    }
   ],
   "source": [
    "spam = [2,4,6,8,10]\n",
    "spam.insert(2,\"hello\")\n",
    "spam"
   ]
  },
  {
   "cell_type": "raw",
   "id": "1cc102ac-9786-423e-9b68-1c3e19423d0e",
   "metadata": {},
   "source": [
    "method2:"
   ]
  },
  {
   "cell_type": "code",
   "execution_count": 2,
   "id": "b8c7350b-5c3a-4385-8a8b-68d52483c895",
   "metadata": {},
   "outputs": [
    {
     "data": {
      "text/plain": [
       "[2, 4, 'hello', 6, 8, 10]"
      ]
     },
     "execution_count": 2,
     "metadata": {},
     "output_type": "execute_result"
    }
   ],
   "source": [
    "spam[2] = 'hello'\n",
    "spam"
   ]
  },
  {
   "cell_type": "raw",
   "id": "7bf7f05f-9f7a-4923-b59d-78ae8ecee0ca",
   "metadata": {},
   "source": [
    "Lets pretend the spam includes the list [\"a\",\"b\",\"c\",\"d\"] for the next three queries.\n",
    "\n",
    "3. What is the value of spam[int(int('3'* 2) / 11)]?"
   ]
  },
  {
   "cell_type": "code",
   "execution_count": 3,
   "id": "ff76912d-1938-4e20-b687-824fda2e1a72",
   "metadata": {},
   "outputs": [
    {
     "data": {
      "text/plain": [
       "6"
      ]
     },
     "execution_count": 3,
     "metadata": {},
     "output_type": "execute_result"
    }
   ],
   "source": [
    "spam = [2,4,'hello',6,8,10,'a','b','c','d']\n",
    "spam[int(int('3'* 2) / 11)]"
   ]
  },
  {
   "cell_type": "raw",
   "id": "0f4a694e-eec1-4d1a-9638-fed061623a39",
   "metadata": {},
   "source": [
    "Lets pretend the spam includes the list [\"a\",\"b\",\"c\",\"d\"] for the next three queries.\n",
    "\n",
    "4. What is the value of spam[-1]?"
   ]
  },
  {
   "cell_type": "code",
   "execution_count": 4,
   "id": "a7f5c80a-6a52-4268-aec5-23477f90a734",
   "metadata": {},
   "outputs": [
    {
     "data": {
      "text/plain": [
       "'d'"
      ]
     },
     "execution_count": 4,
     "metadata": {},
     "output_type": "execute_result"
    }
   ],
   "source": [
    "spam[-1]"
   ]
  },
  {
   "cell_type": "raw",
   "id": "aeaa176f-af89-46ef-bdaf-f09f443fec33",
   "metadata": {},
   "source": [
    "5. What is the value of spam[:2]?"
   ]
  },
  {
   "cell_type": "code",
   "execution_count": 5,
   "id": "00b3153f-fc5c-4f76-913c-e79dffd9d210",
   "metadata": {},
   "outputs": [
    {
     "data": {
      "text/plain": [
       "[2, 4]"
      ]
     },
     "execution_count": 5,
     "metadata": {},
     "output_type": "execute_result"
    }
   ],
   "source": [
    "spam[:2]"
   ]
  },
  {
   "cell_type": "raw",
   "id": "f064de3e-61d2-475a-b50e-bc7cd0685b25",
   "metadata": {},
   "source": [
    "Lets pretend bacon has the list [3.14, 'cat', 11,'cat', True] for the next three questions."
   ]
  },
  {
   "cell_type": "raw",
   "id": "b986ac94-2e79-41e4-aaa2-1a165634ccc0",
   "metadata": {},
   "source": [
    "6. What is the value of bacon.index('cat')?"
   ]
  },
  {
   "cell_type": "code",
   "execution_count": 11,
   "id": "229337c1-af15-4aae-864b-c12fb5340146",
   "metadata": {},
   "outputs": [
    {
     "data": {
      "text/plain": [
       "1"
      ]
     },
     "execution_count": 11,
     "metadata": {},
     "output_type": "execute_result"
    }
   ],
   "source": [
    "bacon = [3.14,'cat',11,'cat',True]\n",
    "bacon.index('cat')"
   ]
  },
  {
   "cell_type": "raw",
   "id": "cf7994a0-a8fd-408a-936c-f54c02a20bd5",
   "metadata": {},
   "source": [
    "7. How does bacon.append(99) change the look of the list value in bacon?"
   ]
  },
  {
   "cell_type": "code",
   "execution_count": 13,
   "id": "0598b705-557e-404b-a95a-801200f2c293",
   "metadata": {},
   "outputs": [
    {
     "data": {
      "text/plain": [
       "[3.14, 'cat', 11, 'cat', True, 99]"
      ]
     },
     "execution_count": 13,
     "metadata": {},
     "output_type": "execute_result"
    }
   ],
   "source": [
    "bacon.append(99)\n",
    "bacon"
   ]
  },
  {
   "cell_type": "raw",
   "id": "6ecbc821-737d-4734-97ee-12e925b1f7f5",
   "metadata": {},
   "source": [
    "8. How does bacon.remove('cat') change the look of the list in bacon?"
   ]
  },
  {
   "cell_type": "code",
   "execution_count": 14,
   "id": "06c56782-db5b-4a27-854e-344b6bfb811b",
   "metadata": {},
   "outputs": [
    {
     "data": {
      "text/plain": [
       "[3.14, 11, 'cat', True, 99]"
      ]
     },
     "execution_count": 14,
     "metadata": {},
     "output_type": "execute_result"
    }
   ],
   "source": [
    "bacon.remove('cat')\n",
    "bacon"
   ]
  },
  {
   "cell_type": "raw",
   "id": "733ee939-4e4e-492b-992f-67a3fe59c77c",
   "metadata": {},
   "source": [
    "9. What are the list concatenation and list replication operators?"
   ]
  },
  {
   "cell_type": "raw",
   "id": "d6204248-94e7-4a6f-95a4-2ac61eba35df",
   "metadata": {},
   "source": [
    "list concatenation operator:\" + \"\n",
    "It is used to concatenate one list with the another\n",
    "EX:"
   ]
  },
  {
   "cell_type": "code",
   "execution_count": 15,
   "id": "dde7d59e-7ae0-4f1f-a77d-4fcfd57d8ff4",
   "metadata": {},
   "outputs": [
    {
     "data": {
      "text/plain": [
       "[1, 2, 3, 4, 5, 6, 7]"
      ]
     },
     "execution_count": 15,
     "metadata": {},
     "output_type": "execute_result"
    }
   ],
   "source": [
    "a = [1,2,3,4]\n",
    "b = [5,6,7]\n",
    "a = a+b\n",
    "a"
   ]
  },
  {
   "cell_type": "raw",
   "id": "c64a4cad-4e66-4247-be71-ee8c4e74a257",
   "metadata": {},
   "source": [
    "list replication operator: \"*\""
   ]
  },
  {
   "cell_type": "raw",
   "id": "2f2f0a7a-043e-4ae1-8f92-f66018cda514",
   "metadata": {},
   "source": [
    "it is used to replicate a list \n",
    "Ex:"
   ]
  },
  {
   "cell_type": "code",
   "execution_count": 17,
   "id": "f4488ab4-5313-43e1-ad32-489b4c2d6a5a",
   "metadata": {},
   "outputs": [
    {
     "data": {
      "text/plain": [
       "[1, 2, 3, 4, 1, 2, 3, 4]"
      ]
     },
     "execution_count": 17,
     "metadata": {},
     "output_type": "execute_result"
    }
   ],
   "source": [
    "a = [1,2,3,4]\n",
    "a = a*2\n",
    "a"
   ]
  },
  {
   "cell_type": "raw",
   "id": "59e780b4-cec2-4e43-a80e-91f6de399c4d",
   "metadata": {},
   "source": [
    "10. What is difference between the list methods append() and insert()?"
   ]
  },
  {
   "cell_type": "raw",
   "id": "81f59a23-4207-4c86-80ab-7648d4d423b2",
   "metadata": {},
   "source": [
    "append():It adds value to a list only at the end of it.\n",
    "insert():It is used to add a value at any required index(position)"
   ]
  },
  {
   "cell_type": "raw",
   "id": "103aa739-bc6a-456f-b7af-d34493c4cf2a",
   "metadata": {},
   "source": [
    "11. What are the two methods for removing items from a list?"
   ]
  },
  {
   "cell_type": "code",
   "execution_count": null,
   "id": "c1e72c46-7d2a-4682-b861-ac4e7fcd39ee",
   "metadata": {},
   "outputs": [],
   "source": [
    "Method1:"
   ]
  },
  {
   "cell_type": "code",
   "execution_count": 26,
   "id": "1742b127-1f65-41cb-8793-c91d435a1859",
   "metadata": {},
   "outputs": [
    {
     "data": {
      "text/plain": [
       "[1, 2, 4]"
      ]
     },
     "execution_count": 26,
     "metadata": {},
     "output_type": "execute_result"
    }
   ],
   "source": [
    "a = [1,2,3,4]\n",
    "a.pop(2)\n",
    "a"
   ]
  },
  {
   "cell_type": "raw",
   "id": "484d4cd4-ca73-4770-bd59-bc9c9a9bd424",
   "metadata": {},
   "source": [
    "Method2:"
   ]
  },
  {
   "cell_type": "code",
   "execution_count": 27,
   "id": "5f5b2c66-086c-42b7-aa90-2a1198fbb152",
   "metadata": {},
   "outputs": [
    {
     "data": {
      "text/plain": [
       "[2, 4]"
      ]
     },
     "execution_count": 27,
     "metadata": {},
     "output_type": "execute_result"
    }
   ],
   "source": [
    "a.remove(1)\n",
    "a"
   ]
  },
  {
   "cell_type": "raw",
   "id": "71c2d91c-bd85-4c31-9618-be6b395a7bfb",
   "metadata": {},
   "source": [
    "12. Describe how list values and string values are identical."
   ]
  },
  {
   "cell_type": "raw",
   "id": "76065d3c-7b6c-4748-bc45-5699f59b07e6",
   "metadata": {},
   "source": [
    "Both list values and string values are sequences. Both have a \"length\" and their elements have an \"index\""
   ]
  },
  {
   "cell_type": "raw",
   "id": "fdc40cef-2e82-4040-9c42-7342d65317ac",
   "metadata": {},
   "source": [
    "13. What is the difference between tuples and lists?"
   ]
  },
  {
   "cell_type": "code",
   "execution_count": null,
   "id": "26ba9e7f-fc53-42b0-8c84-52461e9bcdcb",
   "metadata": {},
   "outputs": [],
   "source": [
    "Tuples are immutable\n",
    "Ex:"
   ]
  },
  {
   "cell_type": "code",
   "execution_count": 28,
   "id": "f1c48ddb-7914-4a1b-88cc-5d7214683816",
   "metadata": {},
   "outputs": [
    {
     "ename": "TypeError",
     "evalue": "'tuple' object does not support item assignment",
     "output_type": "error",
     "traceback": [
      "\u001b[0;31m---------------------------------------------------------------------------\u001b[0m",
      "\u001b[0;31mTypeError\u001b[0m                                 Traceback (most recent call last)",
      "Cell \u001b[0;32mIn [28], line 2\u001b[0m\n\u001b[1;32m      1\u001b[0m a \u001b[38;5;241m=\u001b[39m (\u001b[38;5;241m1\u001b[39m,\u001b[38;5;241m2\u001b[39m,\u001b[38;5;241m3\u001b[39m,\u001b[38;5;241m4\u001b[39m)\n\u001b[0;32m----> 2\u001b[0m \u001b[43ma\u001b[49m\u001b[43m[\u001b[49m\u001b[38;5;241;43m1\u001b[39;49m\u001b[43m]\u001b[49m \u001b[38;5;241m=\u001b[39m \u001b[38;5;241m5\u001b[39m\n\u001b[1;32m      3\u001b[0m a\n",
      "\u001b[0;31mTypeError\u001b[0m: 'tuple' object does not support item assignment"
     ]
    }
   ],
   "source": [
    "a = (1,2,3,4)\n",
    "a[1] = 5\n",
    "a"
   ]
  },
  {
   "cell_type": "raw",
   "id": "58a8dbde-5a57-41f6-97fa-ea056500b1c0",
   "metadata": {},
   "source": [
    "Whereas List is mutable\n",
    "Ex:"
   ]
  },
  {
   "cell_type": "code",
   "execution_count": 29,
   "id": "226721ba-11e1-443b-9d49-8482a8bc3a4b",
   "metadata": {},
   "outputs": [
    {
     "data": {
      "text/plain": [
       "[1, 5, 3, 4]"
      ]
     },
     "execution_count": 29,
     "metadata": {},
     "output_type": "execute_result"
    }
   ],
   "source": [
    "a = [1,2,3,4]\n",
    "a[1] = 5\n",
    "a"
   ]
  },
  {
   "cell_type": "raw",
   "id": "d0c10053-73f3-4eb7-a5db-1e33b3d89063",
   "metadata": {},
   "source": [
    "14. How do you type a tuple value that only contains the integer 42?"
   ]
  },
  {
   "cell_type": "code",
   "execution_count": 3,
   "id": "929f108d-64fd-4ecb-a08a-ac255303faf0",
   "metadata": {},
   "outputs": [
    {
     "data": {
      "text/plain": [
       "tuple"
      ]
     },
     "execution_count": 3,
     "metadata": {},
     "output_type": "execute_result"
    }
   ],
   "source": [
    "T = (42,)\n",
    "type(T)"
   ]
  },
  {
   "cell_type": "raw",
   "id": "d182b343-8a9b-4ebc-866b-99f8a46bb4fb",
   "metadata": {},
   "source": [
    "15. How do you get a list value's tuple form? How do you get a tuple value's list form?"
   ]
  },
  {
   "cell_type": "code",
   "execution_count": null,
   "id": "b2201e1e-ad52-405d-bc85-c28e10550d61",
   "metadata": {},
   "outputs": [],
   "source": [
    "Ans:\n",
    "a:"
   ]
  },
  {
   "cell_type": "code",
   "execution_count": 4,
   "id": "f0d2bf62-b790-40fa-aefc-5f2bd5537f6e",
   "metadata": {},
   "outputs": [
    {
     "data": {
      "text/plain": [
       "(1, 2, 4, 5)"
      ]
     },
     "execution_count": 4,
     "metadata": {},
     "output_type": "execute_result"
    }
   ],
   "source": [
    "A = [1,2,4,5]\n",
    "A = tuple(A)\n",
    "A"
   ]
  },
  {
   "cell_type": "code",
   "execution_count": null,
   "id": "4370d4e3-251e-4d18-aff9-24186fa795de",
   "metadata": {},
   "outputs": [],
   "source": [
    "b:"
   ]
  },
  {
   "cell_type": "code",
   "execution_count": 5,
   "id": "29da24ba-eae3-4a1f-b51b-b775fef4cda5",
   "metadata": {},
   "outputs": [
    {
     "data": {
      "text/plain": [
       "[2, 7, 9, 10]"
      ]
     },
     "execution_count": 5,
     "metadata": {},
     "output_type": "execute_result"
    }
   ],
   "source": [
    "B = (2,7,9,10)\n",
    "B = list(B)\n",
    "B"
   ]
  },
  {
   "cell_type": "raw",
   "id": "960a2c3f-8237-4137-9718-58998750deb8",
   "metadata": {},
   "source": [
    "16. Variables that \"contain\" list values are not necessarily lists themselves. Instead, what do they\n",
    "contain?"
   ]
  },
  {
   "cell_type": "raw",
   "id": "f8b6bf9b-657a-4f0a-b305-381c64af7234",
   "metadata": {},
   "source": [
    "variables contain references to the list values.Any number of list values and any type of list values can be stored in a single variable and using \"index\", the variable can provide reference to those values.EX:"
   ]
  },
  {
   "cell_type": "code",
   "execution_count": 7,
   "id": "89d5bef8-bc08-49bd-b099-a6ce627eb430",
   "metadata": {},
   "outputs": [
    {
     "name": "stdout",
     "output_type": "stream",
     "text": [
      "a\n",
      "b\n",
      "c\n"
     ]
    }
   ],
   "source": [
    "l = [\"a\",\"b\",\"c\"]\n",
    "print(l[0])\n",
    "print(l[1])\n",
    "print(l[2])"
   ]
  },
  {
   "cell_type": "raw",
   "id": "f9a432da-bd12-4fb4-bb89-68f7d24dab37",
   "metadata": {},
   "source": [
    "17. How do you distinguish between copy.copy() and copy.deepcopy()?\n",
    "\n",
    "Ans:shallow copying(copy.copy()) "
   ]
  },
  {
   "cell_type": "code",
   "execution_count": 35,
   "id": "6bd3ce9a-b85c-4d13-9736-c1aa90105578",
   "metadata": {},
   "outputs": [
    {
     "name": "stdout",
     "output_type": "stream",
     "text": [
      "The original elements before deep copying\n",
      "a b [3, 5] d \n",
      "The new list of elements after deep copying \n",
      "a b [7, 5] d \n",
      "The original elements after deep copying\n",
      "a b [3, 5] d "
     ]
    }
   ],
   "source": [
    "import copy \n",
    "l = [\"a\", \"b\", [3,5], \"d\"]\n",
    "l1 = copy.deepcopy(l) \n",
    "print (\"The original elements before deep copying\")\n",
    "for i in range(0,len(l)):\n",
    "    print (l[i],end=\" \") \n",
    "print(\"\\r\") \n",
    "l1[2][0] = 7 \n",
    "print (\"The new list of elements after deep copying \")\n",
    "for i in range(0,len(l1)):\n",
    "    print (l1[i],end=\" \")    \n",
    "print(\"\\r\")  \n",
    "print (\"The original elements after deep copying\")\n",
    "for i in range(0,len( l)):\n",
    "    print (l[i],end=\" \")"
   ]
  },
  {
   "cell_type": "code",
   "execution_count": 34,
   "id": "4aeda8c1-9032-4bd7-85cb-dde5bbd2fb31",
   "metadata": {},
   "outputs": [
    {
     "name": "stdout",
     "output_type": "stream",
     "text": [
      "The original elements before shallow copying\n",
      "a b [3, 5] d \n",
      "The original elements after shallow copying\n",
      "a b [7, 5] d "
     ]
    }
   ],
   "source": [
    "import copy\n",
    " \n",
    "l = [\"a\", \"b\", [3,5], \"d\"]\n",
    "l2 = copy.copy(l)\n",
    "print (\"The original elements before shallow copying\")\n",
    "for i in range(0,len(l)):\n",
    "    print (l[i],end=\" \") \n",
    "print(\"\\r\") \n",
    "l2[2][0] = 7 \n",
    "print (\"The original elements after shallow copying\")\n",
    "for i in range(0,len( l)):\n",
    "    print (l[i],end=\" \")"
   ]
  },
  {
   "cell_type": "code",
   "execution_count": null,
   "id": "5bf10711-874e-4ac6-97a8-437b61d0c8f9",
   "metadata": {},
   "outputs": [],
   "source": []
  },
  {
   "cell_type": "code",
   "execution_count": null,
   "id": "cdeb2dc0-9eec-46f5-bbb0-75b34cbc399e",
   "metadata": {},
   "outputs": [],
   "source": []
  }
 ],
 "metadata": {
  "kernelspec": {
   "display_name": "Python 3 (ipykernel)",
   "language": "python",
   "name": "python3"
  },
  "language_info": {
   "codemirror_mode": {
    "name": "ipython",
    "version": 3
   },
   "file_extension": ".py",
   "mimetype": "text/x-python",
   "name": "python",
   "nbconvert_exporter": "python",
   "pygments_lexer": "ipython3",
   "version": "3.10.6"
  }
 },
 "nbformat": 4,
 "nbformat_minor": 5
}
